{
 "cells": [
  {
   "cell_type": "code",
   "execution_count": null,
   "id": "35155a86",
   "metadata": {},
   "outputs": [],
   "source": []
  },
  {
   "cell_type": "code",
   "execution_count": 26,
   "id": "7a1f8f60",
   "metadata": {},
   "outputs": [
    {
     "name": "stdout",
     "output_type": "stream",
     "text": [
      "{1: 'India', 14: 'Australia', 30: 'Brazil', 37: 'Canada', 94: 'Indonesia', 148: 'New Zealand', 162: 'Phillipines', 166: 'Qatar', 184: 'Singapore', 189: 'South Africa', 191: 'Sri Lanka', 208: 'Turkey', 214: 'UAE', 215: 'United Kingdom', 216: 'United States'}\n"
     ]
    }
   ],
   "source": [
    "import csv\n",
    "import openpyxl\n",
    "\n",
    "\n",
    "data_file = \"./zomato.csv\"\n",
    "country_codes_file = \"./Country-Code.xlsx\"\n",
    "\n",
    "def read_data_file():\n",
    "    column_names = []\n",
    "    data = []\n",
    "    \n",
    "    with open(data_file, 'r', encoding='UTF-8', newline='', errors='ignore') as f:\n",
    "        csv_reader = csv.reader(f)\n",
    "        first_row = True\n",
    "        for row in csv_reader:\n",
    "            if first_row:\n",
    "                column_names = row\n",
    "                first_row = False\n",
    "                continue\n",
    "            current_data = {}\n",
    "            for i, cell in enumerate(row):\n",
    "                current_data[column_names[i]] = str(cell)\n",
    "            data.append(current_data)\n",
    "    return column_names, data\n",
    "\n",
    "def read_country_codes():\n",
    "    wb = openpyxl.load_workbook(country_codes_file, data_only=True)\n",
    "    ws = wb['Sheet1']\n",
    "    \n",
    "    country_codes = {}\n",
    "    \n",
    "    for i in range(2, ws.max_row + 1):\n",
    "        for j in range(1, 2, ws.max_column + 1):\n",
    "            country_codes[ws.cell(row=i, column=j).value] = ws.cell(row=i, column=j+1).value\n",
    "    \n",
    "    return country_codes\n",
    "\n",
    "\n",
    "if __name__ == \"__main__\":\n",
    "    columns, data = read_data_file()\n",
    "    country_codes = read_country_codes()\n",
    "    print(country_codes)\n",
    "    "
   ]
  },
  {
   "cell_type": "code",
   "execution_count": null,
   "id": "92712df7",
   "metadata": {},
   "outputs": [],
   "source": []
  }
 ],
 "metadata": {
  "kernelspec": {
   "display_name": "Python 3",
   "language": "python",
   "name": "python3"
  },
  "language_info": {
   "codemirror_mode": {
    "name": "ipython",
    "version": 3
   },
   "file_extension": ".py",
   "mimetype": "text/x-python",
   "name": "python",
   "nbconvert_exporter": "python",
   "pygments_lexer": "ipython3",
   "version": "3.8.5"
  }
 },
 "nbformat": 4,
 "nbformat_minor": 5
}
